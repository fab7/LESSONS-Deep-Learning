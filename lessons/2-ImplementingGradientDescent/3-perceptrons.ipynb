{
 "cells": [
  {
   "cell_type": "markdown",
   "metadata": {},
   "source": [
    "## Programming quiz\n",
    "\n",
    "### Below, you'll implement a forward pass through a 4x3x2 network, with sigmoid activation functions for both layers.\n",
    "\n",
    "Things to do:\n",
    "    Calculate the input to the hidden layer.\n",
    "    Calculate the hidden layer output.\n",
    "    Calculate the input to the output layer.\n",
    "    Calculate the output of the network."
   ]
  },
  {
   "cell_type": "code",
   "execution_count": 2,
   "metadata": {},
   "outputs": [
    {
     "name": "stdout",
     "output_type": "stream",
     "text": [
      "\n",
      "Inputs (X):\n",
      "[ 0.49671415 -0.1382643   0.64768854  1.52302986]\n",
      "\n",
      "Weights_input_to_hidden:\n",
      "[[-0.02341534 -0.0234137   0.15792128]\n",
      " [ 0.07674347 -0.04694744  0.054256  ]\n",
      " [-0.04634177 -0.04657298  0.02419623]\n",
      " [-0.19132802 -0.17249178 -0.05622875]]\n",
      "\n",
      "Weights_hidden_to_output:\n",
      "[[-0.10128311  0.03142473]\n",
      " [-0.09080241 -0.14123037]\n",
      " [ 0.14656488 -0.02257763]]\n"
     ]
    }
   ],
   "source": [
    "import numpy as np\n",
    "\n",
    "def sigmoid(x):\n",
    "    \"\"\"\n",
    "    Calculate sigmoid\n",
    "    \"\"\"\n",
    "    return 1/(1+np.exp(-x))\n",
    "\n",
    "# Network size\n",
    "N_input  = 4\n",
    "N_hidden = 3\n",
    "N_output = 2\n",
    "np.random.seed(42)\n",
    "\n",
    "# Make some fake data\n",
    "X = np.random.randn(4)\n",
    "print('\\nInputs (X):')\n",
    "print(X)\n",
    "\n",
    "weights_input_to_hidden  = np.random.normal(0, scale=0.1, size=(N_input, N_hidden))\n",
    "print('\\nWeights_input_to_hidden:')\n",
    "print(weights_input_to_hidden)\n",
    "\n",
    "weights_hidden_to_output = np.random.normal(0, scale=0.1, size=(N_hidden, N_output))\n",
    "print('\\nWeights_hidden_to_output:')\n",
    "print(weights_hidden_to_output)\n"
   ]
  },
  {
   "cell_type": "code",
   "execution_count": 7,
   "metadata": {},
   "outputs": [
    {
     "name": "stdout",
     "output_type": "stream",
     "text": [
      "\n",
      "Hidden-layer Output:\n",
      "[0.41492192 0.42604313 0.5002434 ]\n",
      "\n",
      "Output-layer Output:\n",
      "[0.49815196 0.48539772]\n"
     ]
    }
   ],
   "source": [
    "# Make a forward pass through the network (hidden layer)\n",
    "hidden_layer_in  = np.dot(X, weights_input_to_hidden)\n",
    "hidden_layer_out = sigmoid(hidden_layer_in)\n",
    "print('\\nHidden-layer Output:')\n",
    "print(hidden_layer_out)\n",
    "\n",
    "# Make a forward pass through the network (output layer)\n",
    "output_layer_in  = np.dot(hidden_layer_out, weights_hidden_to_output)\n",
    "output_layer_out = sigmoid(output_layer_in)\n",
    "print('\\nOutput-layer Output:')\n",
    "print(output_layer_out)\n"
   ]
  },
  {
   "cell_type": "code",
   "execution_count": null,
   "metadata": {},
   "outputs": [],
   "source": []
  }
 ],
 "metadata": {
  "kernelspec": {
   "display_name": "Python 3",
   "language": "python",
   "name": "python3"
  },
  "language_info": {
   "codemirror_mode": {
    "name": "ipython",
    "version": 3
   },
   "file_extension": ".py",
   "mimetype": "text/x-python",
   "name": "python",
   "nbconvert_exporter": "python",
   "pygments_lexer": "ipython3",
   "version": "3.10.10"
  },
  "orig_nbformat": 4
 },
 "nbformat": 4,
 "nbformat_minor": 2
}
